{
  "cells": [
    {
      "cell_type": "markdown",
      "metadata": {
        "id": "NleT2yhQjt1f"
      },
      "source": [
        "1 - Escreva um programa que lê N inteiros, salva-os em uma lista e usa as funções de lista para imprimir:\n",
        "a) A soma de todos os valores;\n",
        "b) A média dos valores digitados;\n",
        "c) O maior valor;\n",
        "d) O menor valor;\n",
        "e) A quantidade de zeros"
      ]
    },
    {
      "cell_type": "code",
      "execution_count": null,
      "metadata": {
        "id": "MLIndOswjt1m",
        "outputId": "b731f8c8-a4cb-4558-863f-dd2a78575fa3"
      },
      "outputs": [
        {
          "name": "stdout",
          "output_type": "stream",
          "text": [
            "Soma dos valores fornecidos: 95\n",
            "Média dos valores: 8.636363636363637\n",
            "Maior valor digitado: 125\n",
            "Menor valor digitado: -98\n",
            "Quantidade de zeros presentes na lista: 3\n"
          ]
        }
      ],
      "source": [
        "#Exerc 1\n",
        "\n",
        "lista = [int(x) for x in input(\"Digite valores inteiros:\\n\").split()];\n",
        "\n",
        "print(f\"Soma dos valores fornecidos: {sum(lista)}\");\n",
        "print(f\"Média dos valores: {sum(lista) / len(lista)}\");\n",
        "print(f\"Maior valor digitado: {max(lista)}\");\n",
        "print(f\"Menor valor digitado: {min(lista)}\");\n",
        "print(f\"Quantidade de zeros presentes na lista: {lista.count(0)}\");\n",
        "\n"
      ]
    },
    {
      "cell_type": "markdown",
      "metadata": {
        "id": "QAKaunxXjt1q"
      },
      "source": [
        "2 - Receba um número qualquer de palavras digitadas em uma única linha, sendo cada palavra separada por um espaço. Usando manipulação de strings, crie uma lista com as palavras digitadas. Imprima a lista ordenada alfabeticamente e os índices correspondentes na lista original."
      ]
    },
    {
      "cell_type": "code",
      "execution_count": null,
      "metadata": {
        "id": "UuiQRlIsjt1r",
        "outputId": "f057c846-1581-4b26-dc55-866bbff1b193"
      },
      "outputs": [
        {
          "name": "stdout",
          "output_type": "stream",
          "text": [
            "['.NET', 'C', 'C#', 'C++', 'Java', 'Python', 'Ruby']\n",
            "0 - .NET\n",
            "1 - C\n",
            "2 - C#\n",
            "3 - C++\n",
            "4 - Java\n",
            "5 - Python\n",
            "6 - Ruby\n"
          ]
        }
      ],
      "source": [
        "#Exerc 2\n",
        "\n",
        "listaPalavras = input(\"Digite as suas palavras: \").split();\n",
        "\n",
        "listaPalavras.sort();\n",
        "\n",
        "print(listaPalavras);\n",
        "\n",
        "for palavra in listaPalavras:\n",
        "    print(f\"{listaPalavras.index(palavra)} - {palavra}\");\n"
      ]
    },
    {
      "cell_type": "markdown",
      "metadata": {
        "id": "hOnhzcXdjt1s"
      },
      "source": [
        "3. Dada uma lista de entradas representando a pontuação de cada\n",
        "participante em uma competição, determine o índice do primeiro,\n",
        "segundo e terceiro colocado, acompanhado de suas pontuações. Em caso\n",
        "de empate considere os participantes com menor índice."
      ]
    },
    {
      "cell_type": "code",
      "execution_count": null,
      "metadata": {
        "id": "EcGMK9oMjt1t",
        "outputId": "921e008d-6bf1-46aa-b1d7-ce059192362e"
      },
      "outputs": [
        {
          "name": "stdout",
          "output_type": "stream",
          "text": [
            "0: 86\n",
            "2: 85\n",
            "8: 84\n"
          ]
        }
      ],
      "source": [
        "#Exerc 3\n",
        "minMax = (0, 3)\n",
        "\n",
        "pontuacoes = [int(x) for x in input(\"Digite as pontuações: \").split()];\n",
        "pontuacoesOrdenadas = pontuacoes.copy();\n",
        "maioresPontuacoes = [];\n",
        "\n",
        "\n",
        "pontuacoesOrdenadas.sort(reverse=True);\n",
        "\n",
        "for x in range(minMax[0], minMax[1]):\n",
        "    maiorPontuacao = pontuacoesOrdenadas.pop(0);\n",
        "    maioresPontuacoes.append(maiorPontuacao);\n",
        "\n",
        "    # Remove todos os valores duplicados das maiores pontuações\n",
        "    pontuacoesOrdenadas = list(filter(lambda pontuacao : pontuacao != maiorPontuacao, pontuacoesOrdenadas));\n",
        "\n",
        "for lugar in range(minMax[0], minMax[1]):\n",
        "    print(f\"{pontuacoes.index(maioresPontuacoes[lugar])}: {maioresPontuacoes[lugar]}\");\n",
        "\n",
        "\n",
        "\n"
      ]
    },
    {
      "cell_type": "markdown",
      "metadata": {
        "id": "5MxzcAGKjt1u"
      },
      "source": [
        "4. Leia do usuário os nomes e preços de produtos eletrônicos. Crie uma lista\n",
        "com essas informações, de acordo com a estrutura a seguir"
      ]
    },
    {
      "cell_type": "code",
      "execution_count": null,
      "metadata": {
        "id": "deIloUh8jt1v",
        "outputId": "d736cf53-7438-47fb-889f-ff499db2b20d"
      },
      "outputs": [
        {
          "name": "stdout",
          "output_type": "stream",
          "text": [
            "Celular  - 1700.00\n",
            "Laptop  - 3280.00\n"
          ]
        }
      ],
      "source": [
        "#Exerc 4\n",
        "import re;\n",
        "\n",
        "numItems = int(input());\n",
        "\n",
        "listaInputs = [];\n",
        "listaNomes = [];\n",
        "listaValores = [];\n",
        "\n",
        "for i in range(0, numItems):\n",
        "    item = input();\n",
        "    listaInputs.append(item);\n",
        "\n",
        "listaInputs.sort();\n",
        "\n",
        "for item in listaInputs:\n",
        "    # Pegar a string e remover o valor\n",
        "    nome = re.match('[^.\\d]*', item)[0];\n",
        "\n",
        "    # Remover tudo que não for o valor da string\n",
        "    valor = re.split('[^.\\d]*', item);\n",
        "    valor = ''.join(str(x) for x in valor);\n",
        "\n",
        "    listaNomes.append(nome);\n",
        "    listaValores.append(valor);\n",
        "\n",
        "\n",
        "for index, nome in enumerate(listaNomes):\n",
        "    print(f\"{nome} - {listaValores[index]}\");\n"
      ]
    },
    {
      "cell_type": "markdown",
      "metadata": {
        "id": "ADJqoUFwjt1x"
      },
      "source": [
        "5. Dada uma sequência de valores inteiros, imprima uma lista de cada\n",
        "contendo o quadrado de cada um dos valores. Os valores serão digitados\n",
        "em uma única linha, use manipulação de string para criar uma lista. Use\n",
        "compreensão de lista para converter os valores para inteiro e calcular\n",
        "o seu quadrado."
      ]
    },
    {
      "cell_type": "code",
      "execution_count": null,
      "metadata": {
        "id": "4dq1hCH6jt1y",
        "outputId": "29957c06-a5d2-4cf5-bd65-4b5dd5c479a6"
      },
      "outputs": [
        {
          "name": "stdout",
          "output_type": "stream",
          "text": [
            "[1, 4, 25, 49, 121, 169]\n"
          ]
        }
      ],
      "source": [
        "string = input('');\n",
        "lista = string.replace(',','').split(' ');\n",
        "\n",
        "for idx, num in enumerate(lista):\n",
        "    lista[idx] = int(num)**2;\n",
        "\n",
        "print(lista);\n"
      ]
    },
    {
      "cell_type": "markdown",
      "metadata": {
        "id": "VgXAd9tsjt1z"
      },
      "source": [
        "6. Dada uma entrada, crie uma lista de listas, que pode ser visualizada como\n",
        "uma matriz 2D. Calcule a soma dos valores da sua diagonal usando\n",
        "compreensão de listas."
      ]
    },
    {
      "cell_type": "code",
      "execution_count": null,
      "metadata": {
        "id": "lRvQUluYjt1z",
        "outputId": "42f5fd6c-3218-483c-bb22-fa00163446a3"
      },
      "outputs": [
        {
          "name": "stdout",
          "output_type": "stream",
          "text": [
            "[['1', '2', '3'], ['1', '4', '3'], ['1', '2', '9']]\n",
            "14\n"
          ]
        }
      ],
      "source": [
        "lista=[];\n",
        "\n",
        "for i in range(0, 3):\n",
        "    entrada = input();\n",
        "    entrada = entrada.split(' ');\n",
        "    lista.append(entrada);\n",
        "\n",
        "print(lista);\n",
        "sum = 0;\n",
        "\n",
        "for i in range(0, len(lista)):\n",
        "    sum += int(lista[i][i]);\n",
        "\n",
        "print(sum);"
      ]
    },
    {
      "cell_type": "markdown",
      "metadata": {
        "id": "Orq6OzPmjt10"
      },
      "source": [
        "7. Escreva funções que recebem uma lista como entrada e realizam as\n",
        "instruções a seguir. No programa principal, leia os valores da lista em\n",
        "formato de string e escreva um menu que permita ao usuário escolher\n",
        "entre as funções. Retorne ao menu principal ao final de cada execução.\n",
        "Inclua uma opção “Sair” no seu menu, e encerre o programa\n",
        "somente quando o usuário selecionar essa opção."
      ]
    },
    {
      "cell_type": "markdown",
      "metadata": {
        "id": "ciptXiaijt11"
      },
      "source": [
        "1. length(): Pede um n do usuário e retorna a quantidade de\n",
        "elementos da lista de comprimento maior que n."
      ]
    },
    {
      "cell_type": "markdown",
      "metadata": {
        "id": "yw4coON0jt11"
      },
      "source": [
        "2. vogais(): Retorna uma lista com a quantidade vogais de cada\n",
        "elemento da lista de entrada."
      ]
    },
    {
      "cell_type": "markdown",
      "metadata": {
        "id": "eeuPVdm8jt12"
      },
      "source": [
        "3. group_by_length(): Retorna uma lista de listas, agrupando\n",
        "nomes com o mesmo comprimento."
      ]
    },
    {
      "cell_type": "markdown",
      "metadata": {
        "id": "ML-iXTqkjt12"
      },
      "source": [
        "4. encrypt(): Dada as seguintes regras de criptografia, retorne uma\n",
        "lista com os nomes criptografados, bem como a chave da\n",
        "criptografia (o valor aleatório gerado de acordo com as regras)."
      ]
    },
    {
      "cell_type": "code",
      "execution_count": 9,
      "metadata": {
        "colab": {
          "base_uri": "https://localhost:8080/"
        },
        "id": "1CUWg6fFjt13",
        "outputId": "a000fe98-ec66-47cc-8c60-476716b106ef"
      },
      "outputs": [
        {
          "output_type": "stream",
          "name": "stdout",
          "text": [
            "Selecione uma das opções abaixo:\n",
            "[1] - Length\n",
            "[2] - Vogais\n",
            "[3] - Group By\n",
            "[4] - Encrypt\n",
            "[0] - Encerrar o programa\n",
            "4\n",
            "['Pyere', 'Ny', 'Hezm', 'Zmzm', 'Tvm', 'Gpis'], 4\n",
            "Selecione uma das opções abaixo:\n",
            "[1] - Length\n",
            "[2] - Vogais\n",
            "[3] - Group By\n",
            "[4] - Encrypt\n",
            "[0] - Encerrar o programa\n",
            "4\n",
            "['Qzfsf', 'Oz', 'If{n', '[n{n', 'Uwn', 'Hqjt'], 5\n",
            "Selecione uma das opções abaixo:\n",
            "[1] - Length\n",
            "[2] - Vogais\n",
            "[3] - Group By\n",
            "[4] - Encrypt\n",
            "[0] - Encerrar o programa\n",
            "0\n",
            "Até a próxima\n"
          ]
        }
      ],
      "source": [
        "# 7\n",
        "import re;\n",
        "import random;\n",
        "\n",
        "PARAMETRO = [\"Luana\", \"Ju\", \"Davi\", \"Vivi\", \"Pri\", \"Cleo\"];\n",
        "\n",
        "def length(lista):\n",
        "    n = int(input('Digite um número n'));\n",
        "    maiorN = 0;\n",
        "    for item in lista:\n",
        "        maiorN += 1 if len(item) > n else 0;\n",
        "\n",
        "    return maiorN;\n",
        "\n",
        "def vogais(lista):\n",
        "    numVogais = [];\n",
        "\n",
        "    for item in lista:\n",
        "        resultado = re.findall('[aA,Ee,Ii,Oo,Uu]{1}', item);\n",
        "        numVogais.append(len(resultado));\n",
        "\n",
        "    return numVogais;\n",
        "\n",
        "def group_by_legth(lista):\n",
        "    retorno = [];\n",
        "    lista.sort(key = lambda x : len(x))\n",
        "\n",
        "    listaAux = lista.copy();\n",
        "\n",
        "    while len(listaAux) > 0:\n",
        "        conjunto = list(filter(lambda item : len(listaAux[0]) == len(item), listaAux))\n",
        "        retorno.append(conjunto);\n",
        "\n",
        "        for item in conjunto:\n",
        "            listaAux.remove(item);\n",
        "\n",
        "    return retorno;\n",
        "\n",
        "def encrypt(lista):\n",
        "    key = random.randint(1, 10)\n",
        "    retorno = [];\n",
        "\n",
        "    for indexItem, item in enumerate(lista):\n",
        "      string = '';\n",
        "      for indexLetra, letra in enumerate(item):\n",
        "        valorLetra = ord(letra);\n",
        "        valorLetra += key;\n",
        "        string += chr(valorLetra);\n",
        "      retorno.append(string);\n",
        "\n",
        "    return f\"{retorno}, {key}\";\n",
        "\n",
        "encerrarPrograma = False;\n",
        "\n",
        "while not encerrarPrograma:\n",
        "    print('Selecione uma das opções abaixo:');\n",
        "    print('[1] - Length');\n",
        "    print('[2] - Vogais');\n",
        "    print('[3] - Group By');\n",
        "    print('[4] - Encrypt');\n",
        "    print('[0] - Encerrar o programa');\n",
        "    escolha = input();\n",
        "\n",
        "    if escolha == '1':\n",
        "        print(length(PARAMETRO));\n",
        "    elif escolha == '2':\n",
        "        print(vogais(PARAMETRO));\n",
        "    elif escolha == '3':\n",
        "        print(group_by_legth(PARAMETRO));\n",
        "    elif escolha == '4':\n",
        "        print(encrypt(PARAMETRO));\n",
        "    elif escolha == '0':\n",
        "        print('Até a próxima');\n",
        "        encerrarPrograma = True;\n",
        "    else:\n",
        "        print('Escolha inválida');"
      ]
    }
  ],
  "metadata": {
    "kernelspec": {
      "display_name": "Python 3",
      "language": "python",
      "name": "python3"
    },
    "language_info": {
      "codemirror_mode": {
        "name": "ipython",
        "version": 3
      },
      "file_extension": ".py",
      "mimetype": "text/x-python",
      "name": "python",
      "nbconvert_exporter": "python",
      "pygments_lexer": "ipython3",
      "version": "3.8.10"
    },
    "orig_nbformat": 4,
    "colab": {
      "provenance": []
    }
  },
  "nbformat": 4,
  "nbformat_minor": 0
}