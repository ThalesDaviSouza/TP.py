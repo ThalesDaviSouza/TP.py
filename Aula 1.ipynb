{
  "nbformat": 4,
  "nbformat_minor": 0,
  "metadata": {
    "colab": {
      "provenance": []
    },
    "kernelspec": {
      "name": "python3",
      "display_name": "Python 3"
    },
    "language_info": {
      "name": "python"
    }
  },
  "cells": [
    {
      "cell_type": "code",
      "source": [
        "import numpy as np\n"
      ],
      "metadata": {
        "id": "8XZzq5gDnteV"
      },
      "execution_count": null,
      "outputs": []
    },
    {
      "cell_type": "code",
      "execution_count": null,
      "metadata": {
        "id": "5FPPa6Qvc6Ta"
      },
      "outputs": [],
      "source": [
        "# Exercício 1\n",
        "num1 = float(input('Digite o primeiro numero'))\n",
        "num2 = float(input('Digite o primeiro numero'))\n",
        "num3 = float(input('Digite o primeiro numero'))\n",
        "\n",
        "soma = num1 + num2 + num3\n",
        "\n",
        "print(f'{num1} + {num2} + {num3} = {soma:.2f}')\n"
      ]
    },
    {
      "cell_type": "code",
      "source": [
        "# Exercício 2\n",
        "celsius = float(input('Digite a temperatura C: '))\n",
        "F = float(celsius*(9.0/5.0)+32.0)\n",
        "\n",
        "print(f'{F:.2f}')"
      ],
      "metadata": {
        "colab": {
          "base_uri": "https://localhost:8080/"
        },
        "id": "sc5yTKHakM5n",
        "outputId": "8973ef45-f4a5-47f2-e078-29674e86b819"
      },
      "execution_count": null,
      "outputs": [
        {
          "output_type": "stream",
          "name": "stdout",
          "text": [
            "Digite a temperatura C: 27\n",
            "80.60\n"
          ]
        }
      ]
    },
    {
      "cell_type": "code",
      "source": [
        "# Exercício 3\n",
        "real = float(input('Digite o valor: '))\n",
        "cotacaoDolar = float(input('Digite a cotação do dolar: '))\n",
        "\n",
        "print(f'${(real*cotacaoDolar):.2f}')"
      ],
      "metadata": {
        "id": "r5KV393nlOYl"
      },
      "execution_count": null,
      "outputs": []
    },
    {
      "cell_type": "code",
      "source": [
        "# Exercício 4\n",
        "valorDiaTrabalho = float(input('Digite o valor por dia: '))\n",
        "diasTrabalhados = float(input('Digite os dias trabalhados: '))\n",
        "\n",
        "valorLiquido = (valorDiaTrabalho * diasTrabalhados)\n",
        "valorLiquido -= valorLiquido*0.08\n",
        "\n",
        "print(f'${(valorLiquido):.2f}')"
      ],
      "metadata": {
        "id": "hXf9WxgEmt1R"
      },
      "execution_count": null,
      "outputs": []
    },
    {
      "cell_type": "code",
      "source": [
        "# Exercício 5\n",
        "A = float(input('Digite o lado A: '))\n",
        "B = float(input('Digite o lado B: '))\n",
        "C = float(input('Digite o lado C: '))\n",
        "\n",
        "S = float(A + B + C)/2\n",
        "\n",
        "areaTriangulo = np.sqrt(S*(S-A)*(S-B)*(S-C))\n",
        "\n",
        "print(f'{areaTriangulo}')"
      ],
      "metadata": {
        "colab": {
          "base_uri": "https://localhost:8080/"
        },
        "id": "Nh8jRqpgnXZ1",
        "outputId": "eaea7871-21a0-4528-d871-9d7e10f88372"
      },
      "execution_count": null,
      "outputs": [
        {
          "output_type": "stream",
          "name": "stdout",
          "text": [
            "Digite o lado A: 3\n",
            "Digite o lado B: 3\n",
            "Digite o lado C: 4.24\n",
            "$4.499996515554207\n"
          ]
        }
      ]
    },
    {
      "cell_type": "code",
      "source": [
        "# Exercício 6\n",
        "A = float(input('Digite o valor A: '))\n",
        "B = float(input('Digite o valor B: '))\n",
        "\n",
        "print(f'Maior: {A if A > B else B}')\n",
        "print(f'Diferença: {A-B}')"
      ],
      "metadata": {
        "colab": {
          "base_uri": "https://localhost:8080/"
        },
        "outputId": "c6b25744-0d76-4c88-ccf2-7c3dc0d54689",
        "id": "d0osrVhMoRGb"
      },
      "execution_count": null,
      "outputs": [
        {
          "output_type": "stream",
          "name": "stdout",
          "text": [
            "Digite o valor A: 1\n",
            "Digite o valor B: 5\n",
            "Maior: 5.0\n",
            "Diferença: -4.0\n"
          ]
        }
      ]
    },
    {
      "cell_type": "code",
      "source": [
        "# Exercício 7\n",
        "Ano = float(input('Digite o ano: '))\n",
        "\n",
        "print(f\"{'É bissexto' if (Ano % 400 == 0) or (Ano % 100 != 0 and Ano % 4 == 0) else 'Não é bissexto'}\")\n"
      ],
      "metadata": {
        "colab": {
          "base_uri": "https://localhost:8080/"
        },
        "outputId": "eaaa0a9e-e02f-49f7-fc15-9e0c0590f7a6",
        "id": "PwpRgUkTp2o8"
      },
      "execution_count": null,
      "outputs": [
        {
          "output_type": "stream",
          "name": "stdout",
          "text": [
            "Digite o ano: 2000\n",
            "É bissexto\n"
          ]
        }
      ]
    },
    {
      "cell_type": "code",
      "source": [
        "# Exercício 8\n",
        "num = float(input('Digite o numero: '))\n",
        "\n",
        "# XOR\n",
        "print(f\"{(num % 3 == 0) ^ (num % 5 == 0)}\")\n"
      ],
      "metadata": {
        "colab": {
          "base_uri": "https://localhost:8080/"
        },
        "outputId": "b992070c-4ab2-45a3-8a67-992ce80938de",
        "id": "Q_bdqjX4vGib"
      },
      "execution_count": null,
      "outputs": [
        {
          "output_type": "stream",
          "name": "stdout",
          "text": [
            "Digite o numero: 384\n",
            "True\n"
          ]
        }
      ]
    },
    {
      "cell_type": "code",
      "source": [
        "# Exercício 9\n",
        "idade = int(input('Digite idade: '))\n",
        "sexo = str(input('Digite sexo: '))\n",
        "tempoServico = int(input('Digite tempo de serviço: '))\n",
        "\n",
        "idadeMinima = 60 if sexo == 'F' else 65\n",
        "\n",
        "podeAposentar = True if idade > idadeMinima or tempoServico >= 30 or (idade >= idadeMinima and tempoServico >= 25) else False\n",
        "\n",
        "print(f\"Pode aposentar? {'Sim' if podeAposentar else 'Não'}\")\n"
      ],
      "metadata": {
        "colab": {
          "base_uri": "https://localhost:8080/"
        },
        "outputId": "a2662106-d6de-4961-a580-b0e35f28f4be",
        "id": "TkFsTLjdxG3f"
      },
      "execution_count": null,
      "outputs": [
        {
          "output_type": "stream",
          "name": "stdout",
          "text": [
            "Digite idade: 52\n",
            "Digite sexo: M\n",
            "Digite tempo de serviço: 29\n",
            "Pode aposentar? Não\n"
          ]
        }
      ]
    },
    {
      "cell_type": "code",
      "source": [
        "# Exercício 10\n",
        "altura = float(input('Digite altura: '))\n",
        "peso = float(input('Digite peso: '))\n",
        "\n",
        "classificacao = ''\n",
        "\n",
        "if altura < 1.5:\n",
        "  if peso < 60:\n",
        "    classificacao = 'A'\n",
        "  elif peso >= 60 and peso <= 90:\n",
        "    classificacao = 'D'\n",
        "  else:\n",
        "    classificacao = 'G'\n",
        "elif altura >= 1.5 and altura <= 1.8:\n",
        "  if peso < 60:\n",
        "    classificacao = 'B'\n",
        "  elif peso >= 60 and peso <= 90:\n",
        "    classificacao = 'E'\n",
        "  else:\n",
        "    classificacao = 'H'\n",
        "else:\n",
        "  if peso < 60:\n",
        "    classificacao = 'C'\n",
        "  elif peso >= 60 and peso <= 90:\n",
        "    classificacao = 'F'\n",
        "  else:\n",
        "    classificacao = 'I'\n",
        "\n",
        "print(f\"Classificação: {classificacao}\")\n"
      ],
      "metadata": {
        "colab": {
          "base_uri": "https://localhost:8080/"
        },
        "outputId": "f9fc6e45-0b3b-4d37-a257-08fede1ec9df",
        "id": "F9g_lI08zGKW"
      },
      "execution_count": null,
      "outputs": [
        {
          "output_type": "stream",
          "name": "stdout",
          "text": [
            "Digite altura: 2\n",
            "Digite peso: 100\n",
            "Classificação: I\n"
          ]
        }
      ]
    },
    {
      "cell_type": "code",
      "source": [
        "# Exercício 11\n",
        "print('Escolha um tipo de média: ')\n",
        "print('(a): Geométrica')\n",
        "print('(b): Ponderada')\n",
        "print('(c): Harmônica')\n",
        "print('(d): Aritmética')\n",
        "escolha = str(input('Digite média: '))\n",
        "\n",
        "num1 = float(input('Digite num1: '))\n",
        "num2 = float(input('Digite num2: '))\n",
        "num3 = float(input('Digite num3: '))\n",
        "\n",
        "media = 0\n",
        "if escolha == 'a':\n",
        "  media = np.cbrt(num1 * num2 * num3)\n",
        "elif escolha == 'b':\n",
        "  media = (num1 + 2 * num2 + 3 * num3)/6.0\n",
        "elif escolha == 'c':\n",
        "  media = 1/((1/num1) + (1/num2) + (1/num3))\n",
        "else:\n",
        "  media = (num1 + num2 + num3)/3\n",
        "\n",
        "print(f\"Média: {media}\")\n"
      ],
      "metadata": {
        "colab": {
          "base_uri": "https://localhost:8080/"
        },
        "outputId": "042203dd-2cc3-4be1-ea33-7fc0759888d2",
        "id": "ZRpClx0T030-"
      },
      "execution_count": null,
      "outputs": [
        {
          "output_type": "stream",
          "name": "stdout",
          "text": [
            "Escolha um tipo de média: \n",
            "(a): Geométrica\n",
            "(b): Ponderada\n",
            "(c): Harmônica\n",
            "(d): Aritmética\n",
            "Digite média: d\n",
            "Digite num1: 3\n",
            "Digite num2: 3\n",
            "Digite num3: 3\n",
            "Média: 3.0\n"
          ]
        }
      ]
    },
    {
      "cell_type": "code",
      "source": [
        "# Exercício 12\n",
        "num1 = float(input('Digite num1: '))\n",
        "num2 = float(input('Digite num2: '))\n",
        "\n",
        "mdc = 1\n",
        "\n",
        "menorNum = int(num1 if num1 < num2 else num2)\n",
        "\n",
        "for x in range(1, menorNum):\n",
        "  if(num1%x==0 and num2%x==0):\n",
        "    mdc = x\n",
        "  else:\n",
        "    continue\n",
        "\n",
        "print(f\"MDC: {mdc}\")\n"
      ],
      "metadata": {
        "colab": {
          "base_uri": "https://localhost:8080/"
        },
        "outputId": "ea519199-1ca8-477b-cb23-1f95ae67148a",
        "id": "JIxeClXR2gpH"
      },
      "execution_count": null,
      "outputs": [
        {
          "output_type": "stream",
          "name": "stdout",
          "text": [
            "Digite num1: 27\n",
            "Digite num2: 12\n",
            "MDC: 3\n"
          ]
        }
      ]
    },
    {
      "cell_type": "code",
      "source": [
        "# Exercício 13\n",
        "num1 = int(input('Digite num1: '))\n",
        "num2 = int(input('Digite num2: '))\n",
        "\n",
        "# O exemplo não faz sentido: como os numeros impares entre -4 e -7 são positivos?????\n",
        "\n",
        "if num1 < num2:\n",
        "  for x in range(num1, num2):\n",
        "    if(x % 2 != 0):\n",
        "      print(x)\n",
        "    else:\n",
        "      continue\n"
      ],
      "metadata": {
        "colab": {
          "base_uri": "https://localhost:8080/"
        },
        "outputId": "082aa3fa-bf1f-4b8e-9edc-707c60a7fb3c",
        "id": "Rklic9wn3ptu"
      },
      "execution_count": null,
      "outputs": [
        {
          "output_type": "stream",
          "name": "stdout",
          "text": [
            "Digite num1: -4\n",
            "Digite num2: 7\n",
            "-3\n",
            "-1\n",
            "1\n",
            "3\n",
            "5\n"
          ]
        }
      ]
    },
    {
      "cell_type": "code",
      "source": [
        "# Exercício 14\n",
        "num1 = abs(int(input('Digite num1: ')))\n",
        "\n",
        "valor = 1\n",
        "\n",
        "for x in range(1, num1+1):\n",
        "  linha = ''\n",
        "  for y in range(0, x):\n",
        "    linha += str(valor) + ' '\n",
        "    valor+=1\n",
        "  print(linha)"
      ],
      "metadata": {
        "colab": {
          "base_uri": "https://localhost:8080/"
        },
        "outputId": "8cd4f33e-2bf1-4b8d-8d5b-8cce3f0775d8",
        "id": "LQPt8zcd7KpN"
      },
      "execution_count": null,
      "outputs": [
        {
          "output_type": "stream",
          "name": "stdout",
          "text": [
            "Digite num1: 6\n",
            "1 \n",
            "2 3 \n",
            "4 5 6 \n",
            "7 8 9 10 \n",
            "11 12 13 14 15 \n",
            "16 17 18 19 20 21 \n"
          ]
        }
      ]
    },
    {
      "cell_type": "code",
      "source": [
        "# Exercício 15\n",
        "vale = float(input('Digite o valor do vale: '))\n",
        "transporte = float(input('Digite o valor do transporte: '))\n",
        "metros = float(input('Digite quantos metros quadrados foram feitos: '))\n",
        "dias = float(input('Digite quantos dias foram trabalhados: '))\n",
        "\n",
        "valorMetro = 10 if metros < 10 else 11.5 if metros >= 10 and metros <= 20 else 13.0\n",
        "\n",
        "print(f'O pedreiro deve receber R${(vale + (2 * transporte) + (metros * valorMetro)) * dias}')\n",
        "\n"
      ],
      "metadata": {
        "colab": {
          "base_uri": "https://localhost:8080/"
        },
        "outputId": "b95f7a1e-a021-49bb-8daa-edf5cf7164ff",
        "id": "Qh1AAwMD9gaV"
      },
      "execution_count": 2,
      "outputs": [
        {
          "output_type": "stream",
          "name": "stdout",
          "text": [
            "Digite o valor do vale: 10\n",
            "Digite o valor do transporte: 5\n",
            "Digite quantos metros quadrados foram feitos: 1\n",
            "Digite quantos dias foram trabalhados: 3\n",
            "O pedreiro deve receber R$90.0\n"
          ]
        }
      ]
    },
    {
      "cell_type": "code",
      "source": [
        "# Exercício 16\n",
        "termos = int(input('Digite quantos termos terá: '))\n",
        "inicial = int(input('Digite o valor inicial: '))\n",
        "razao = float(input('Digite quantos razao: '))\n",
        "\n",
        "sum = 0\n",
        "termoAtual = inicial\n",
        "i = 0\n",
        "\n",
        "while i < termos:\n",
        "  sum += termoAtual\n",
        "  termoAtual += razao\n",
        "  i += 1\n",
        "\n",
        "print(f'{sum:.4f}')\n",
        "\n"
      ],
      "metadata": {
        "colab": {
          "base_uri": "https://localhost:8080/"
        },
        "outputId": "d41c646a-b9cb-4692-ed03-32b2bca278aa",
        "id": "yfmn1G5TEbOZ"
      },
      "execution_count": 6,
      "outputs": [
        {
          "output_type": "stream",
          "name": "stdout",
          "text": [
            "Digite quantos termos terá: 20\n",
            "Digite o valor inicial: 1\n",
            "Digite quantos razao: 2.7\n",
            "533.0000\n"
          ]
        }
      ]
    },
    {
      "cell_type": "code",
      "source": [
        "# Exercício 17\n",
        "inicial = int(input('Digite o valor inicial: '))\n",
        "final = int(input('Digite o valor final: '))\n",
        "\n",
        "i = 0\n",
        "sequencia = ''\n",
        "\n",
        "\n",
        "while i <= final:\n",
        "  sequencia += f'{i}'\n",
        "  i += inicial\n",
        "  sequencia += ', ' if i <= final else ''\n",
        "\n",
        "print(sequencia)\n",
        "\n"
      ],
      "metadata": {
        "colab": {
          "base_uri": "https://localhost:8080/"
        },
        "outputId": "ca602e38-d6a6-424f-bcdf-ac6a8486ac93",
        "id": "44xVypRnGuko"
      },
      "execution_count": 11,
      "outputs": [
        {
          "output_type": "stream",
          "name": "stdout",
          "text": [
            "Digite o valor inicial: 4\n",
            "Digite o valor final: 16\n",
            "0, 4, 8, 12, 16\n"
          ]
        }
      ]
    },
    {
      "cell_type": "code",
      "source": [
        "# Exercício 18\n",
        "\n",
        "# Primo\n",
        "def primo(num):\n",
        "  if num == 2:\n",
        "    return True\n",
        "  for x in range(2, num-1):\n",
        "    if(num%x==0):\n",
        "      return False\n",
        "  return True\n",
        "\n",
        "\n",
        "# MMC\n",
        "def continueMMC(arr):\n",
        "  for item in arr:\n",
        "    if(item) != 1:\n",
        "      return True\n",
        "  return False\n",
        "\n",
        "def divideArrayPorConstante(arr, const):\n",
        "  itensDividos = 0\n",
        "  for item in arr:\n",
        "    itemIndex = arr.index(item)\n",
        "    if item % const == 0:\n",
        "      arr[itemIndex] /= const\n",
        "      itensDividos += 1\n",
        "\n",
        "  if itensDividos > 0:\n",
        "    return True\n",
        "  else:\n",
        "    return False\n",
        "\n",
        "def aumentaConstante(arr, const):\n",
        "  aumentarConstante = True\n",
        "\n",
        "  for item in arr:\n",
        "    if item % const == 0:\n",
        "      aumentarConstante = False\n",
        "      break\n",
        "\n",
        "  if aumentarConstante:\n",
        "    const += 1\n",
        "    while not primo(const):\n",
        "      const += 1\n",
        "\n",
        "  return const\n",
        "\n",
        "\n",
        "def mmc(args):\n",
        "  arr = []\n",
        "\n",
        "  for x in args:\n",
        "    arr.append(x)\n",
        "\n",
        "  primoAtual = 2\n",
        "  mmc = 0\n",
        "\n",
        "\n",
        "  while continueMMC(arr):\n",
        "    dividiu = divideArrayPorConstante(arr, primoAtual)\n",
        "\n",
        "    mmc = primoAtual if dividiu and mmc == 0 else mmc if not dividiu else mmc * primoAtual\n",
        "    primoAtual = aumentaConstante(arr, primoAtual)\n",
        "\n",
        "  return mmc\n",
        "\n",
        "# Soma Digito\n",
        "def somaDigito(num):\n",
        "  soma = 0\n",
        "\n",
        "  while num >= 10:\n",
        "    soma += num % 10\n",
        "    num = int(num/10)\n",
        "  soma += num\n",
        "  return soma\n",
        "\n",
        "# n Primo\n",
        "def nPrimo(n):\n",
        "  i = 1\n",
        "  valor = 2\n",
        "\n",
        "  while i < n:\n",
        "    valor += 1\n",
        "    while not primo(valor):\n",
        "      valor += 1\n",
        "    i += 1\n",
        "  return valor\n",
        "\n",
        "\n",
        "# Hora\n",
        "def hora(h, m, s):\n",
        "  s += 1\n",
        "  m += int(s / 60)\n",
        "  h += int(m / 60)\n",
        "  s = s % 60\n",
        "  m = m % 60\n",
        "  print(f'{h:02d}:{m:02d}:{s:02d}')\n",
        "\n",
        "\n",
        "\n",
        "# Menu\n",
        "def menu():\n",
        "  escolha = 1\n",
        "  while escolha != 0:\n",
        "    print('Escolha uma das seguintes opções:')\n",
        "    print('[1] - Primo')\n",
        "    print('[2] - MMC')\n",
        "    print('[3] - Soma Digito')\n",
        "    print('[4] - N-ésimo primo')\n",
        "    print('[5] - Hora')\n",
        "    print('[0] - Sair')\n",
        "    escolha = int(input('Digite a sua escolha: '))\n",
        "\n",
        "    if escolha == 1:\n",
        "      valor = int(input('Digite um primo: '))\n",
        "      print(f'{valor} {\"não é\" if not primo(valor) else \"é\"} primo')\n",
        "\n",
        "    elif escolha == 2:\n",
        "      print('Digite 1 valor e aperte enter (para parar aperte enter apenas)')\n",
        "      valor = 1\n",
        "      arr = []\n",
        "      while valor != '':\n",
        "        valor = input('Digite um valor: ')\n",
        "        if valor != '':\n",
        "          arr.append(int(valor))\n",
        "      print(f'MMC: {mmc(arr)}')\n",
        "\n",
        "    elif escolha == 3:\n",
        "      valor = int(input(\"Digite um valor: \"))\n",
        "      print(f'A soma dos digitos: {somaDigito(valor)}')\n",
        "\n",
        "    elif escolha == 4:\n",
        "      valor = int(input(\"Digite um valor: \"))\n",
        "      print(f'Primo nessa posição: {nPrimo(valor)}')\n",
        "\n",
        "    elif escolha == 5:\n",
        "      hour = int(input(\"Digite a hora: \"))\n",
        "      minuto = int(input(\"Digite a minuto: \"))\n",
        "      segundo = int(input(\"Digite a segundo: \"))\n",
        "\n",
        "      print(f'Hora mais 1 seg: {hora(hour, minuto, segundo)}')\n",
        "\n",
        "menu()\n"
      ],
      "metadata": {
        "colab": {
          "base_uri": "https://localhost:8080/"
        },
        "id": "rXULjIA5HqnT",
        "outputId": "c412048b-b47f-4bad-ba32-3f09bfec8ff1"
      },
      "execution_count": 62,
      "outputs": [
        {
          "name": "stdout",
          "output_type": "stream",
          "text": [
            "Escolha uma das seguintes opções:\n",
            "[1] - Primo\n",
            "[2] - MMC\n",
            "[3] - Soma Digito\n",
            "[4] - N-ésimo primo\n",
            "[5] - Hora\n",
            "[0] - Sair\n",
            "Digite a sua escolha: 1\n",
            "Digite um primo: 17\n",
            "17 é primo\n",
            "Escolha uma das seguintes opções:\n",
            "[1] - Primo\n",
            "[2] - MMC\n",
            "[3] - Soma Digito\n",
            "[4] - N-ésimo primo\n",
            "[5] - Hora\n",
            "[0] - Sair\n",
            "Digite a sua escolha: 1\n",
            "Digite um primo: 6\n",
            "6 não é primo\n",
            "Escolha uma das seguintes opções:\n",
            "[1] - Primo\n",
            "[2] - MMC\n",
            "[3] - Soma Digito\n",
            "[4] - N-ésimo primo\n",
            "[5] - Hora\n",
            "[0] - Sair\n",
            "Digite a sua escolha: 2\n",
            "Digite 1 valor e aperte enter (para parar aperte enter apenas)\n",
            "Digite um valor: 48\n",
            "Digite um valor: 84\n",
            "Digite um valor: \n",
            "MMC: 336\n",
            "Escolha uma das seguintes opções:\n",
            "[1] - Primo\n",
            "[2] - MMC\n",
            "[3] - Soma Digito\n",
            "[4] - N-ésimo primo\n",
            "[5] - Hora\n",
            "[0] - Sair\n",
            "Digite a sua escolha: 3\n",
            "Digite um valor: 1095\n",
            "A soma dos digitos: 15\n",
            "Escolha uma das seguintes opções:\n",
            "[1] - Primo\n",
            "[2] - MMC\n",
            "[3] - Soma Digito\n",
            "[4] - N-ésimo primo\n",
            "[5] - Hora\n",
            "[0] - Sair\n",
            "Digite a sua escolha: 4\n",
            "Digite um valor: 17\n",
            "Primo nessa posição: 59\n",
            "Escolha uma das seguintes opções:\n",
            "[1] - Primo\n",
            "[2] - MMC\n",
            "[3] - Soma Digito\n",
            "[4] - N-ésimo primo\n",
            "[5] - Hora\n",
            "[0] - Sair\n",
            "Digite a sua escolha: 5\n",
            "Digite a hora: 2\n",
            "Digite a minuto: 59\n",
            "Digite a segundo: 59\n",
            "03:00:00\n",
            "Hora mais 1 seg: None\n",
            "Escolha uma das seguintes opções:\n",
            "[1] - Primo\n",
            "[2] - MMC\n",
            "[3] - Soma Digito\n",
            "[4] - N-ésimo primo\n",
            "[5] - Hora\n",
            "[0] - Sair\n",
            "Digite a sua escolha: 5\n",
            "Digite a hora: 2\n",
            "Digite a minuto: 26\n",
            "Digite a segundo: 24\n",
            "02:26:25\n",
            "Hora mais 1 seg: None\n",
            "Escolha uma das seguintes opções:\n",
            "[1] - Primo\n",
            "[2] - MMC\n",
            "[3] - Soma Digito\n",
            "[4] - N-ésimo primo\n",
            "[5] - Hora\n",
            "[0] - Sair\n",
            "Digite a sua escolha: 0\n"
          ]
        }
      ]
    }
  ]
}